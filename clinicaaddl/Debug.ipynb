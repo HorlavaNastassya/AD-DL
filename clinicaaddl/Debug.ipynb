{
 "cells": [
  {
   "cell_type": "code",
   "execution_count": null,
   "metadata": {},
   "outputs": [],
   "source": [
    "OPTIONS=\"--n_splits 1 --split 0 --nproc 2 --batch_size 20\"\n",
    "!python $HOME/MasterProject/Code/ClinicaTools/AD-DL/clinicaaddl/clinicaaddl/main.py train /u/horlavanasta/MasterProject/NNs_new/subject_model-SEResNet18_preprocessing-linear_task-AD_CN_norm-1_augmFalse_20210426_153458 --resume False --n_splits 1 --split 0 --nproc 1 --batch_size 35"
   ]
  },
  {
   "cell_type": "code",
   "execution_count": 22,
   "metadata": {},
   "outputs": [],
   "source": [
    "def available_scans(source_dir, ext=\".pt\"):\n",
    "    import os\n",
    "    subject_ids=[]\n",
    "    for (dirpath, dirnames, filenames) in os.walk(source_dir):\n",
    "        for f in filenames:\n",
    "            if f.endswith(ext):\n",
    "                subject_ids.append(f)\n",
    "    return subject_ids\n",
    "\n"
   ]
  },
  {
   "cell_type": "code",
   "execution_count": 26,
   "metadata": {},
   "outputs": [
    {
     "data": {
      "text/plain": [
       "1075"
      ]
     },
     "execution_count": 26,
     "metadata": {},
     "output_type": "execute_result"
    }
   ],
   "source": [
    "scans=available_scans(\"../ADNI_data/OrigScans/\", ext=\".nii\")\n",
    "len(scans)"
   ]
  },
  {
   "cell_type": "code",
   "execution_count": 27,
   "metadata": {},
   "outputs": [
    {
     "name": "stdout",
     "output_type": "stream",
     "text": [
      "818\n"
     ]
    }
   ],
   "source": [
    "import os\n",
    "folders=[]\n",
    "for f in os.scandir(\"../ADNI_data/OrigScans/ADNI/\"):\n",
    "    if 'sub-' in f.path:\n",
    "        pass\n",
    "    folders.append(f.path)\n",
    "print(len(folders))"
   ]
  },
  {
   "cell_type": "code",
   "execution_count": null,
   "metadata": {},
   "outputs": [],
   "source": [
    "!python ~/MasterProject/Code/ClinicaTools/AD-DL/clinicaaddl/clinicaaddl/main.py prepare_train image cnn ~/MasterProject/ADNI_data/CAPSPreprocessedT1linear t1-linear ~/MasterProject/ADNI_data/DataPrep/labels/train ~/MasterProject/NNs/model SEResNet18 --baseline"
   ]
  },
  {
   "cell_type": "code",
   "execution_count": 1,
   "metadata": {},
   "outputs": [
    {
     "name": "stdout",
     "output_type": "stream",
     "text": [
      "['/u/horlavanasta/MasterProject/NNs_new/subject_model-Conv5_FC3_preprocessing-linear_task-AD_CN_norm-1_augmTrue', '/u/horlavanasta/MasterProject/NNs_new/subject_model-ResNet18_preprocessing-linear_task-AD_CN_norm-1_augmTrue', '/u/horlavanasta/MasterProject/NNs_new/subject_model-ResNet18_preprocessing-linear_task-AD_CN_norm-1_augmFalse', '/u/horlavanasta/MasterProject/NNs_new/subject_model-SEResNet18_preprocessing-linear_task-AD_CN_norm-1_augmFalse', '/u/horlavanasta/MasterProject/NNs_new/subject_model-Conv5_FC3_preprocessing-linear_task-AD_CN_norm-1_augmFalse', '/u/horlavanasta/MasterProject/NNs_new/subject_model-ResNet18Expanded_preprocessing-linear_task-AD_CN_norm-1_augmFalse', '/u/horlavanasta/MasterProject/NNs_new/subject_model-ResNet18Expanded_preprocessing-linear_task-AD_CN_norm-1_augmTrue', '/u/horlavanasta/MasterProject/NNs_new/subject_model-SEResNet18_preprocessing-linear_task-AD_CN_norm-1_augmTrue_20210426_170806', '/u/horlavanasta/MasterProject/NNs_new/subject_model-SEResNet18_preprocessing-linear_task-AD_CN_norm-1_augmTrue', '/u/horlavanasta/MasterProject/NNs_new/subject_model-SEResNet18_preprocessing-linear_task-AD_CN_norm-1_augmFalse_20210426_170743']\n"
     ]
    }
   ],
   "source": [
    "import os\n",
    "folders=[]\n",
    "for f in os.scandir(\"/u/horlavanasta/MasterProject/NNs_new\"):\n",
    "    if 'subject_model' in f.path:\n",
    "        folders.append(f.path)\n",
    "print(folders)"
   ]
  },
  {
   "cell_type": "code",
   "execution_count": null,
   "metadata": {},
   "outputs": [],
   "source": [
    "!python ~/MasterProject/Code/ClinicaTools/AD-DL/clinicaaddl/clinicaaddl/main.py train ~/MasterProject/NNs/model --n_splits 1 --split 0                        "
   ]
  },
  {
   "cell_type": "code",
   "execution_count": 2,
   "metadata": {},
   "outputs": [
    {
     "name": "stdout",
     "output_type": "stream",
     "text": [
      "/u/horlavanasta/MasterProject/NNs_new/subject_model-Conv5_FC3_preprocessing-linear_task-AD_CN_norm-1_augmTrue\n",
      "/u/horlavanasta/MasterProject/NNs_new/subject_model-ResNet18_preprocessing-linear_task-AD_CN_norm-1_augmTrue\n",
      "/u/horlavanasta/MasterProject/NNs_new/subject_model-ResNet18_preprocessing-linear_task-AD_CN_norm-1_augmFalse\n",
      "/u/horlavanasta/MasterProject/NNs_new/subject_model-SEResNet18_preprocessing-linear_task-AD_CN_norm-1_augmFalse\n",
      "/u/horlavanasta/MasterProject/NNs_new/subject_model-Conv5_FC3_preprocessing-linear_task-AD_CN_norm-1_augmFalse\n",
      "/u/horlavanasta/MasterProject/NNs_new/subject_model-ResNet18Expanded_preprocessing-linear_task-AD_CN_norm-1_augmFalse\n",
      "/u/horlavanasta/MasterProject/NNs_new/subject_model-ResNet18Expanded_preprocessing-linear_task-AD_CN_norm-1_augmTrue\n",
      "/u/horlavanasta/MasterProject/NNs_new/subject_model-SEResNet18_preprocessing-linear_task-AD_CN_norm-1_augmTrue_20210426_170806\n",
      "/u/horlavanasta/MasterProject/NNs_new/subject_model-SEResNet18_preprocessing-linear_task-AD_CN_norm-1_augmTrue\n",
      "/u/horlavanasta/MasterProject/NNs_new/subject_model-SEResNet18_preprocessing-linear_task-AD_CN_norm-1_augmFalse_20210426_170743\n"
     ]
    }
   ],
   "source": [
    "for f in folders:\n",
    "    !echo $f\n",
    "    !python ~/MasterProject/Code/ClinicaTools/AD-DL/clinicaaddl/clinicaaddl/main.py classify ~/MasterProject/ADNI_data/CAPSPreprocessedT1linear ~/MasterProject/ADNI_data/DataPrep/labels_new/test $f test"
   ]
  },
  {
   "cell_type": "code",
   "execution_count": 34,
   "metadata": {},
   "outputs": [
    {
     "data": {
      "text/plain": [
       "'/u/horlavanasta/MasterProject/NNs/subject_model-Conv5_FC3_preprocessing-linear_task-AD_CN_norm-1_augm1-t-0/fold-0/tensorboard_logs/train/events.out.tfevents.1619017713.co6059'"
      ]
     },
     "execution_count": 34,
     "metadata": {},
     "output_type": "execute_result"
    }
   ],
   "source": [
    "log_path"
   ]
  },
  {
   "cell_type": "code",
   "execution_count": 2,
   "metadata": {},
   "outputs": [],
   "source": [
    "%load_ext tensorboard"
   ]
  },
  {
   "cell_type": "code",
   "execution_count": 49,
   "metadata": {},
   "outputs": [],
   "source": [
    "readable_params=['model', 'data_augmentation', 'batch_size', 'learning_rate', \"loss\"]\n",
    "import pandas as pd\n",
    "import matplotlib.pyplot as plt\n",
    "import matplotlib\n",
    "import json\n",
    "import numpy as np\n",
    "from matplotlib import cm\n",
    "\n",
    "def plot_loss_with_results(params, results, history, saved_file_path=None):\n",
    "    \n",
    "    fig, axes = plt.subplots(2, 2, figsize=(20, 18))\n",
    "    str_suptitle=\"Params: \"\n",
    "    \n",
    "    for i, line in enumerate(readable_params):\n",
    "        str_suptitle+=line+': '+str(params[line])+\"; \"\n",
    "        \n",
    "    for k,mode in enumerate(results.keys()):\n",
    "        plot_bar_plots(axes[0][k], results[mode], mode)\n",
    "        \n",
    "    plot_history(axes[1][0], history, mode='loss')\n",
    "    plot_history(axes[1][1], history, mode='balanced_accuracy')\n",
    "\n",
    "\n",
    "    \n",
    "    plt.suptitle(str_suptitle)\n",
    "#     plt.tight_layout()\n",
    "\n",
    "#     plt.show()\n",
    "    if saved_file_path is not None:\n",
    "        plt.savefig(saved_file_path)\n",
    "    else:\n",
    "        plt.show()\n",
    "        \n",
    "    plt.close()\n",
    "        \n",
    "def plot_history(ax, history, mode):\n",
    "    def find_best(arr, ismin=True):\n",
    "        arr=np.array(arr)\n",
    "        if ismin:\n",
    "            best_loss_idx_train=np.where(arr == np.amin(arr))[0][0]\n",
    "        else:\n",
    "            best_loss_idx_train=np.where(arr == np.amax(arr))[0][0]\n",
    "        return best_loss_idx_train, arr[best_loss_idx_train]\n",
    "            \n",
    "    ax.plot(history[\"epoch\"], history[mode+\"_train\"], 'black', lw=1, label='train '+mode)\n",
    "    ax.plot(history[\"epoch\"], history[mode+\"_valid\"], 'red', lw=1, label='validation '+mode)\n",
    "    \n",
    "    idx, val=find_best(history[mode+\"_valid\"], mode=='loss')\n",
    "    ax.plot(idx, val,'o', color='black')\n",
    "    \n",
    "#     ax.legend()\n",
    "    ax.legend(bbox_to_anchor=(0.5, -0.15), loc='lower center',\n",
    "         ncol=2, fontsize ='large')\n",
    "    \n",
    "    if mode=='loss' and np.max(history[mode+\"_valid\"]) > 0.5:\n",
    "        ax.set_ylim(bottom=-0.001, top=0.5)\n",
    "    if mode=='balanced_accuracy':\n",
    "        ax.set_ylim(bottom=-0.001, top=1.1)\n",
    "    ax.set_title(mode)\n",
    "    \n",
    "def plot_bar_plots(ax, results, mode):\n",
    "    \n",
    "    def autolabel(ax, rects):\n",
    "        for rect in rects:\n",
    "\n",
    "            height = rect.get_height()\n",
    "            ax.text(rect.get_x() + rect.get_width()/2., 1.02*height,\n",
    "                    '%.3f' % (height),\n",
    "                    ha='center', va='bottom')\n",
    "        \n",
    "    def reshape_results(results):\n",
    "        metrics={}\n",
    "        for key in results[\"train\"].keys():\n",
    "            metrics[key]=[]\n",
    "        for mode in results.keys():\n",
    "            for metric in results[mode].keys():\n",
    "                metrics[metric].append(results[mode][metric][0])\n",
    "        return metrics\n",
    "    \n",
    "    ax.set_ylim(bottom=-0.001, top=1.1)\n",
    "    results_transposed = reshape_results(results)\n",
    "    N=len(results.keys())\n",
    "    \n",
    "    ind = np.arange(N)\n",
    "    width = 0.2       \n",
    "    width_ratio=0.9\n",
    "#     ax.set_prop_cycle('color', Pastel1_4.mpl_colors)\n",
    "    ax.set_prop_cycle('color', cm.get_cmap('Paired').colors)\n",
    "\n",
    "    \n",
    "    for i, key in enumerate(results_transposed.keys()):\n",
    "        autolabel(ax, ax.bar(ind+width*i, results_transposed[key] , width*width_ratio, label=key.capitalize(), edgecolor='dimgrey'))\n",
    "    \n",
    "    xstips_position=ind + width\n",
    "\n",
    "    xsticklabels=[disease_type for disease_type in results.keys()]\n",
    "    ax.set_xticklabels(xsticklabels)\n",
    "    ax.set_xticks(xstips_position)\n",
    "    ax.legend(bbox_to_anchor=(0.5, -0.15), loc='lower center',\n",
    "         ncol=3, fontsize ='large')\n",
    "    ax.set_title(\"Model from: \"+ mode)"
   ]
  },
  {
   "cell_type": "code",
   "execution_count": 25,
   "metadata": {},
   "outputs": [],
   "source": [
    "progress_list=[\"/u/horlavanasta/MasterProject/NNs_new/subject_model-ResNet18Expanded_preprocessing-linear_task-AD_CN_norm-1_loss-default_augmTrue\", \n",
    "               \"/u/horlavanasta/MasterProject/NNs_new/subject_model-Conv5_FC3_preprocessing-linear_task-AD_CN_norm-1_loss-default_augmTrue\",\n",
    "\"/u/horlavanasta/MasterProject/NNs_new/subject_model-ResNet18_preprocessing-linear_task-AD_CN_norm-1_loss-default_augmTrue\",\n",
    "\"/u/horlavanasta/MasterProject/NNs/subject_model-SEResNet18_preprocessing-linear_task-AD_CN_norm-1_loss-WeightedCrossEntropy_augmTrue\",\n",
    "\"/u/horlavanasta/MasterProject/NNs_new/subject_model-SEResNet18_preprocessing-linear_task-AD_CN_norm-1_loss-WeightedCrossEntropy_augmTrue\",\n",
    "\"/u/horlavanasta/MasterProject/NNs_new/subject_model-Conv5_FC3_preprocessing-linear_task-AD_CN_norm-1_augmTrue\"]"
   ]
  },
  {
   "cell_type": "code",
   "execution_count": 26,
   "metadata": {},
   "outputs": [],
   "source": [
    "progress_list=[\"/u/horlavanasta/MasterProject/NNs_new/subject_model-Conv5_FC3_preprocessing-linear_task-AD_CN_norm-1_augmTrue\"]"
   ]
  },
  {
   "cell_type": "code",
   "execution_count": 28,
   "metadata": {},
   "outputs": [],
   "source": [
    "f=\"/u/horlavanasta/MasterProject/NNs_new/subject_model-Conv5_FC3_preprocessing-linear_task-AD_CN_norm-1_augmTrue\"\n",
    "!python ~/MasterProject/Code/ClinicaTools/AD-DL/clinicaaddl/clinicaaddl/main.py classify ~/MasterProject/ADNI_data/CAPSPreprocessedT1linear ~/MasterProject/ADNI_data/DataPrep/labels_new/test $f test"
   ]
  },
  {
   "cell_type": "code",
   "execution_count": 27,
   "metadata": {},
   "outputs": [
    {
     "name": "stdout",
     "output_type": "stream",
     "text": [
      "/u/horlavanasta/MasterProject/NNs_new/subject_model-SEResNet18_preprocessing-linear_task-AD_CN_norm-1_loss-default_augmFalse\n",
      "/u/horlavanasta/MasterProject/NNs_new/subject_model-ResNet18_preprocessing-linear_task-AD_CN_norm-1_augmTrue\n",
      "/u/horlavanasta/MasterProject/NNs_new/subject_model-ResNet18_preprocessing-linear_task-AD_CN_norm-1_augmFalse\n",
      "/u/horlavanasta/MasterProject/NNs_new/subject_model-SEResNet18Expanded_preprocessing-linear_task-AD_CN_norm-1_augmTrue\n",
      "/u/horlavanasta/MasterProject/NNs_new/subject_model-SEResNet18_preprocessing-linear_task-AD_CN_norm-1_augmFalse\n",
      "/u/horlavanasta/MasterProject/NNs_new/subject_model-ResNet18Expanded_preprocessing-linear_task-AD_CN_norm-1_loss-default_augmTrue\n",
      "/u/horlavanasta/MasterProject/NNs_new/subject_model-SEResNet18Expanded_preprocessing-linear_task-AD_CN_norm-1_augmFalse\n",
      "/u/horlavanasta/MasterProject/NNs_new/subject_model-Conv5_FC3_preprocessing-linear_task-AD_CN_norm-1_augmFalse\n",
      "/u/horlavanasta/MasterProject/NNs_new/subject_model-ResNet18Expanded_preprocessing-linear_task-AD_CN_norm-1_augmFalse\n",
      "/u/horlavanasta/MasterProject/NNs_new/subject_model-ResNet18Expanded_preprocessing-linear_task-AD_CN_norm-1_augmTrue\n",
      "/u/horlavanasta/MasterProject/NNs_new/subject_model-SEResNet18_preprocessing-linear_task-AD_CN_norm-1_loss-WeightedCrossEntropy_augmTrue\n",
      "/u/horlavanasta/MasterProject/NNs_new/subject_model-SEResNet18_preprocessing-linear_task-AD_CN_norm-1_loss-WeightedCrossEntropy_augmFalse\n",
      "/u/horlavanasta/MasterProject/NNs_new/subject_model-SEResNet18_preprocessing-linear_task-AD_CN_norm-1_augmTrue_20210426_170806\n",
      "/u/horlavanasta/MasterProject/NNs_new/subject_model-SEResNet18_preprocessing-linear_task-AD_CN_norm-1_augmTrue\n",
      "/u/horlavanasta/MasterProject/NNs_new/subject_model-ResNet18Expanded_preprocessing-linear_task-AD_CN_norm-1_loss-default_augmFalse\n",
      "/u/horlavanasta/MasterProject/NNs_new/subject_model-ResNet18_preprocessing-linear_task-AD_CN_norm-1_loss-default_augmTrue\n",
      "/u/horlavanasta/MasterProject/NNs_new/subject_model-ResNet18_preprocessing-linear_task-AD_CN_norm-1_loss-default_augmFalse\n",
      "/u/horlavanasta/MasterProject/NNs_new/subject_model-SEResNet18_preprocessing-linear_task-AD_CN_norm-1_loss-default_augmTrue\n",
      "/u/horlavanasta/MasterProject/NNs_new/subject_model-SEResNet18_preprocessing-linear_task-AD_CN_norm-1_augmFalse_20210426_170743\n",
      "/u/horlavanasta/MasterProject/NNs_new/subject_model-Conv5_FC3_preprocessing-linear_task-AD_CN_norm-1_loss-default_augmTrue\n",
      "/u/horlavanasta/MasterProject/NNs_new/subject_model-Conv5_FC3_preprocessing-linear_task-AD_CN_norm-1_loss-default_augmFalse\n",
      "/u/horlavanasta/MasterProject/NNs/subject_model-Conv5_FC3_preprocessing-linear_task-AD_CN_norm-1_augm1-t-0\n",
      "/u/horlavanasta/MasterProject/NNs/subject_model-ResNet18_preprocessing-linear_task-AD_CN_norm-1_loss-WeightedCrossEntropy_augmFalse\n",
      "/u/horlavanasta/MasterProject/NNs/subject_model-SEResNet18_preprocessing-linear_task-AD_CN_norm-1_augmFalse-t-0\n",
      "/u/horlavanasta/MasterProject/NNs/subject_model-Conv5_FC3_preprocessing-linear_task-AD_CN_norm-1_loss-WeightedCrossEntropy_augmFalse\n",
      "/u/horlavanasta/MasterProject/NNs/subject_model-ResNet18_preprocessing-linear_task-AD_CN_norm-1_augmTrue-t-0\n",
      "/u/horlavanasta/MasterProject/NNs/subject_model-SEResNet18_preprocessing-linear_task-AD_CN_norm-1_loss-WeightedCrossEntropy_augmTrue\n",
      "/u/horlavanasta/MasterProject/NNs/subject_model-ResNet18_preprocessing-linear_task-AD_CN_norm-1_augm1-t-0\n",
      "/u/horlavanasta/MasterProject/NNs/subject_model-SEResNet18_preprocessing-linear_task-AD_CN_norm-1_loss-WeightedCrossEntropy_augmFalse\n",
      "/u/horlavanasta/MasterProject/NNs/subject_model-Conv5_FC3_preprocessing-linear_task-AD_CN_norm-1_augmTrue-t-0\n",
      "/u/horlavanasta/MasterProject/NNs/subject_model-ResNet18_preprocessing-linear_task-AD_CN_norm-1_loss-WeightedCrossEntropy_augmTrue\n",
      "/u/horlavanasta/MasterProject/NNs/subject_model-ResNet18_preprocessing-linear_task-AD_CN_norm-1_augmFalse-t-0\n",
      "/u/horlavanasta/MasterProject/NNs/subject_model-Conv5_FC3_preprocessing-linear_task-AD_CN_norm-1_loss-WeightedCrossEntropy_augmTrue\n",
      "/u/horlavanasta/MasterProject/NNs/subject_model-SEResNet18_preprocessing-linear_task-AD_CN_norm-1_augmTrue-t-0\n"
     ]
    }
   ],
   "source": [
    "import pathlib\n",
    "import pandas as pd\n",
    "import os\n",
    "\n",
    "folders=[]\n",
    "for f in os.scandir(\"/u/horlavanasta/MasterProject/NNs_new\"):\n",
    "    if 'subject_model' in f.path and f.path not in progress_list:\n",
    "        \n",
    "        folders.append(f.path)\n",
    "        \n",
    "for f in folders:\n",
    "    !echo $f\n",
    "    !python ~/MasterProject/Code/ClinicaTools/AD-DL/clinicaaddl/clinicaaddl/main.py classify ~/MasterProject/ADNI_data/CAPSPreprocessedT1linear ~/MasterProject/ADNI_data/DataPrep/labels_new/test $f test\n",
    " \n",
    "folders2=[]\n",
    "for f in os.scandir(\"/u/horlavanasta/MasterProject/NNs\"):\n",
    "    if 'subject_model' in f.path and f.path not in progress_list:\n",
    "        folders2.append(f.path)\n",
    "        \n",
    "for f in folders2:\n",
    "    !echo $f\n",
    "    !python ~/MasterProject/Code/ClinicaTools/AD-DL/clinicaaddl/clinicaaddl/main.py classify ~/MasterProject/ADNI_data/CAPSPreprocessedT1linear ~/MasterProject/ADNI_data/DataPrep/labels/test $f test"
   ]
  },
  {
   "cell_type": "code",
   "execution_count": 16,
   "metadata": {},
   "outputs": [
    {
     "data": {
      "text/plain": [
       "17"
      ]
     },
     "execution_count": 16,
     "metadata": {},
     "output_type": "execute_result"
    }
   ],
   "source": [
    "len(folders)"
   ]
  },
  {
   "cell_type": "code",
   "execution_count": 17,
   "metadata": {},
   "outputs": [
    {
     "data": {
      "text/plain": [
       "22"
      ]
     },
     "execution_count": 17,
     "metadata": {},
     "output_type": "execute_result"
    }
   ],
   "source": [
    "folders=[]\n",
    "for f in os.scandir(\"/u/horlavanasta/MasterProject/NNs_new\"):\n",
    "    if 'subject_model' in f.path:\n",
    "        folders.append(f.path)\n",
    "\n",
    "len(folders)"
   ]
  },
  {
   "cell_type": "code",
   "execution_count": 30,
   "metadata": {},
   "outputs": [],
   "source": [
    "progress_list=[\"/u/horlavanasta/MasterProject/NNs_new/subject_model-SEResNet18_preprocessing-linear_task-AD_CN_norm-1_loss-default_augmTrue\"]"
   ]
  },
  {
   "cell_type": "code",
   "execution_count": 68,
   "metadata": {},
   "outputs": [
    {
     "name": "stdout",
     "output_type": "stream",
     "text": [
      "SEResNet18 WeightedCrossEntropy best_balanced_accuracy 0.8090705487122061\n",
      "ResNet18 WeightedCrossEntropy best_balanced_accuracy 0.8197088465845465\n",
      "Conv5_FC3 WeightedCrossEntropy best_loss 0.8409854423292273\n"
     ]
    }
   ],
   "source": [
    "import pathlib\n",
    "import pandas as pd\n",
    "import os\n",
    "\n",
    "folders=[]\n",
    "for f in os.scandir(\"/u/horlavanasta/MasterProject/NNs\"):\n",
    "    if 'subject_model' in f.path and f.path not in progress_list:\n",
    "        folders.append(f.path)\n",
    "  \n",
    "        \n",
    "selection_metrics=[\"best_loss\", \"best_balanced_accuracy\"]\n",
    "modes=['train', 'validation', 'test']\n",
    "model_types=[\"SEResNet18\", \"ResNet18\",\"Conv5_FC3\", \"SEResNet18Expanded\",\"ResNet18Expanded\"]\n",
    "reported_best_accuracies={}\n",
    "for model_type in model_types:\n",
    "    reported_best_accuracies[model_type]={\"max_value\":0,\"mode\":\"\", \"results\":{}, \"params\":{}, \"history\":{},\"model_name\":{} }\n",
    "\n",
    "results_folder='/u/horlavanasta/MasterProject/Code/ClinicaTools/AD-DL/results/test-0.25/'\n",
    "for f in folders[:]:\n",
    "    currentDirectory = pathlib.Path(f)\n",
    "#     print(\"currentDirectory\")\n",
    "\n",
    "    # Search for 'fold-*' pattern\n",
    "    currentPattern = \"fold-*\"\n",
    "    path_params=os.path.join(currentDirectory,\"commandline_train.json\")\n",
    "    \n",
    "    with open(path_params, \"r\") as f:\n",
    "            params = json.load(f)\n",
    "            \n",
    "    # loop depending the number of folds found in the model folder\n",
    "    for fold_dir in currentDirectory.glob(currentPattern):\n",
    "        fold = int(str(fold_dir).split(\"-\")[-1])\n",
    "        results={}\n",
    "        for selection_metric in selection_metrics:\n",
    "            results[selection_metric]={}\n",
    "            history = pd.read_csv(os.path.join(currentDirectory, 'fold-%i' % fold, 'training.tsv'), sep='\\t')\n",
    "            for mode in modes:\n",
    "                performance_dir = os.path.join(currentDirectory, 'fold-%i' % fold, 'cnn_classification')\n",
    "                test_diagnosis_path=os.path.join(performance_dir, selection_metric,'%s_image_level_metrics.tsv' % (mode))\n",
    "                test_diagnosis_df = pd.read_csv(test_diagnosis_path, sep='\\t')\n",
    "                results[selection_metric][mode]=test_diagnosis_df[[\"sensitivity\", 'specificity', 'balanced_accuracy', 'accuracy']]\n",
    "        \n",
    "        folder_type='barplots_with_loss'\n",
    "        preprocessing=params[\"preprocessing\"]\n",
    "\n",
    "        augmentations_presense='augmentations' if params['data_augmentation'] else \"no_augmentations\"\n",
    "        network_type=params['model']\n",
    "        if \"loss\" not in params.keys():\n",
    "            params['loss']='default'\n",
    "\n",
    "        loss=params['loss']\n",
    "        \n",
    "        name=os.path.basename(os.path.normpath(currentDirectory))\n",
    "\n",
    "        path=os.path.join(results_folder, folder_type, preprocessing, network_type, loss, augmentations_presense)\n",
    "        os.makedirs(path, exist_ok=True)\n",
    "        file_name='barplots_'+name+'.png'\n",
    "        \n",
    "        plot_loss_with_results(params, results, history, os.path.join(path, file_name))\n",
    "        for mode in results.keys():\n",
    "            if results[mode][\"test\"][\"balanced_accuracy\"][0]>reported_best_accuracies[network_type][\"max_value\"]:\n",
    "                reported_best_accuracies[network_type][\"max_value\"]=results[mode][\"test\"][\"balanced_accuracy\"][0]\n",
    "                reported_best_accuracies[network_type][\"mode\"]=mode\n",
    "                reported_best_accuracies[network_type][\"results\"]=results\n",
    "                reported_best_accuracies[network_type][\"params\"]=params\n",
    "                reported_best_accuracies[network_type][\"history\"]=history\n",
    "                reported_best_accuracies[network_type][\"model_name\"]=name \n",
    "                \n",
    "            \n",
    "best_results_path=os.path.join(results_folder, \"best_results\")\n",
    "\n",
    "os.makedirs(best_results_path, exist_ok=True)\n",
    "for network_type in model_types:\n",
    "    \n",
    "#     print(reported_best_accuracies[network_type][\"params\"])\n",
    "    if reported_best_accuracies[network_type][\"max_value\"]>0.0:\n",
    "        print(network_type, reported_best_accuracies[network_type][\"params\"][\"loss\"],  reported_best_accuracies[network_type][\"mode\"], reported_best_accuracies[network_type][\"max_value\"])\n",
    "\n",
    "        filepath=os.path.join(best_results_path, reported_best_accuracies[network_type][\"model_name\"]) \n",
    "        plot_loss_with_results(reported_best_accuracies[network_type][\"params\"], reported_best_accuracies[network_type][\"results\"], reported_best_accuracies[network_type][\"history\"], filepath)\n",
    "\n",
    "\n",
    "        \n",
    "        \n",
    "#     print(\"__________________________________________________________________________________\")\n",
    "            \n",
    "    "
   ]
  },
  {
   "cell_type": "code",
   "execution_count": 67,
   "metadata": {},
   "outputs": [
    {
     "name": "stdout",
     "output_type": "stream",
     "text": [
      "SEResNet18 WeightedCrossEntropy best_balanced_accuracy 0.9246411483253588\n",
      "ResNet18 default best_balanced_accuracy 0.9473684210526316\n",
      "Conv5_FC3 WeightedCrossEntropy best_balanced_accuracy 0.9246411483253588\n",
      "SEResNet18Expanded WeightedCrossEntropy best_loss 0.9246411483253588\n",
      "ResNet18Expanded WeightedCrossEntropy best_loss 0.931818181818182\n"
     ]
    }
   ],
   "source": [
    "import pathlib\n",
    "import pandas as pd\n",
    "import os\n",
    "\n",
    "folders=[]\n",
    "for f in os.scandir(\"/u/horlavanasta/MasterProject/NNs_new\"):\n",
    "    if 'subject_model' in f.path and f.path not in progress_list:\n",
    "        folders.append(f.path)\n",
    "  \n",
    "        \n",
    "selection_metrics=[\"best_loss\", \"best_balanced_accuracy\"]\n",
    "modes=['train', 'validation', 'test']\n",
    "model_types=[\"SEResNet18\", \"ResNet18\",\"Conv5_FC3\", \"SEResNet18Expanded\",\"ResNet18Expanded\",]\n",
    "reported_best_accuracies={}\n",
    "for model_type in model_types:\n",
    "    reported_best_accuracies[model_type]={\"max_value\":0,\"mode\":\"\", \"results\":{}, \"params\":{}, \"history\":{},\"model_name\":\"\" }\n",
    "\n",
    "results_folder='/u/horlavanasta/MasterProject/Code/ClinicaTools/AD-DL/results/test-0.25/'\n",
    "for f in folders[:]:\n",
    "    currentDirectory = pathlib.Path(f)\n",
    "#     print(\"currentDirectory\")\n",
    "\n",
    "    # Search for 'fold-*' pattern\n",
    "    currentPattern = \"fold-*\"\n",
    "    path_params=os.path.join(currentDirectory,\"commandline_train.json\")\n",
    "    \n",
    "    with open(path_params, \"r\") as f:\n",
    "            params = json.load(f)\n",
    "            \n",
    "    # loop depending the number of folds found in the model folder\n",
    "    for fold_dir in currentDirectory.glob(currentPattern):\n",
    "        fold = int(str(fold_dir).split(\"-\")[-1])\n",
    "        results={}\n",
    "        for selection_metric in selection_metrics:\n",
    "            results[selection_metric]={}\n",
    "            history = pd.read_csv(os.path.join(currentDirectory, 'fold-%i' % fold, 'training.tsv'), sep='\\t')\n",
    "            for mode in modes:\n",
    "                performance_dir = os.path.join(currentDirectory, 'fold-%i' % fold, 'cnn_classification')\n",
    "                test_diagnosis_path=os.path.join(performance_dir, selection_metric,'%s_image_level_metrics.tsv' % (mode))\n",
    "                test_diagnosis_df = pd.read_csv(test_diagnosis_path, sep='\\t')\n",
    "                results[selection_metric][mode]=test_diagnosis_df[[\"sensitivity\", 'specificity', 'balanced_accuracy', 'accuracy']]\n",
    "        \n",
    "        folder_type='barplots_with_loss'\n",
    "        preprocessing=params[\"preprocessing\"]\n",
    "\n",
    "        augmentations_presense='augmentations' if params['data_augmentation'] else \"no_augmentations\"\n",
    "        network_type=params['model']\n",
    "        if \"loss\" not in params.keys():\n",
    "            params['loss']='default'\n",
    "\n",
    "        loss=params['loss']\n",
    "        \n",
    "        name=os.path.basename(os.path.normpath(currentDirectory))\n",
    "\n",
    "        path=os.path.join(results_folder, folder_type, preprocessing, network_type, loss, augmentations_presense)\n",
    "        os.makedirs(path, exist_ok=True)\n",
    "        file_name='barplots_'+name+'.png'\n",
    "        \n",
    "        plot_loss_with_results(params, results, history, os.path.join(path, file_name))\n",
    "        for mode in results.keys():\n",
    "            if results[mode][\"test\"][\"balanced_accuracy\"][0]>reported_best_accuracies[network_type][\"max_value\"]:\n",
    "                reported_best_accuracies[network_type][\"max_value\"]=results[mode][\"test\"][\"balanced_accuracy\"][0]\n",
    "                reported_best_accuracies[network_type][\"mode\"]=mode\n",
    "                reported_best_accuracies[network_type][\"results\"]=results\n",
    "                reported_best_accuracies[network_type][\"params\"]=params\n",
    "                reported_best_accuracies[network_type][\"history\"]=history\n",
    "                reported_best_accuracies[network_type][\"model_name\"]=name \n",
    "                \n",
    "best_results_path=os.path.join(results_folder, \"best_results\")\n",
    "\n",
    "os.makedirs(best_results_path, exist_ok=True)\n",
    "for network_type in model_types:\n",
    "    print(network_type, reported_best_accuracies[network_type][\"params\"][\"loss\"], reported_best_accuracies[network_type][\"mode\"], reported_best_accuracies[network_type][\"max_value\"])\n",
    "    \n",
    "#     print(reported_best_accuracies[network_type][\"params\"])\n",
    "    if reported_best_accuracies[network_type][\"max_value\"]>0.0:\n",
    "        filepath=os.path.join(best_results_path, reported_best_accuracies[network_type][\"model_name\"]) \n",
    "        plot_loss_with_results(reported_best_accuracies[network_type][\"params\"], reported_best_accuracies[network_type][\"results\"], reported_best_accuracies[network_type][\"history\"], filepath)\n",
    "\n",
    "        \n",
    "        \n",
    "#     print(\"__________________________________________________________________________________\")\n",
    "            \n",
    "    "
   ]
  },
  {
   "cell_type": "code",
   "execution_count": 4,
   "metadata": {},
   "outputs": [],
   "source": [
    "HIDA_participant=True\n",
    "name=\"Nastassya\""
   ]
  },
  {
   "cell_type": "code",
   "execution_count": 9,
   "metadata": {},
   "outputs": [
    {
     "name": "stdout",
     "output_type": "stream",
     "text": [
      "Stuff in common:\n",
      "0 Based in Germany\n",
      "1 Master Studies\n",
      "2 Pytorch\n"
     ]
    }
   ],
   "source": [
    "thingsInCommon=[\"Based in Germany\", \"Master Studies\", \"Pytorch\"]\n",
    "if HIDA_participant and name in [\"Konstantin\", \"Nastassya\", \"Moiz\", \"Tobias\"]:\n",
    "    print(\"Stuff in common:\")\n",
    "    for i, thingInCommon in enumerate(thingsInCommon):\n",
    "        print(i, thingInCommon)\n",
    "    "
   ]
  },
  {
   "cell_type": "code",
   "execution_count": null,
   "metadata": {},
   "outputs": [],
   "source": []
  }
 ],
 "metadata": {
  "kernelspec": {
   "display_name": "Python 3",
   "language": "python",
   "name": "python3"
  },
  "language_info": {
   "codemirror_mode": {
    "name": "ipython",
    "version": 3
   },
   "file_extension": ".py",
   "mimetype": "text/x-python",
   "name": "python",
   "nbconvert_exporter": "python",
   "pygments_lexer": "ipython3",
   "version": "3.7.6"
  }
 },
 "nbformat": 4,
 "nbformat_minor": 4
}
