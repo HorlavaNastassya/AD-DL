{
 "cells": [
  {
   "cell_type": "code",
   "execution_count": null,
   "metadata": {},
   "outputs": [],
   "source": [
    "!python ~/MasterProject/Code/ClinicaTools/AD-DL/clinicaaddl/clinicaaddl/main.py train /u/horlavanasta/MasterProject//DataAndExperiments/Experiments/Experiments-1.5T-3T/NNs_Bayesian/ResNet18/subject_model-ResNet18_preprocessing-linear_task-AD_CN_norm-1_loss-WeightedCrossEntropy_augmTrue --n_splits 1 --split 0  --batch_size 5               "
   ]
  },
  {
   "cell_type": "code",
   "execution_count": null,
   "metadata": {},
   "outputs": [],
   "source": [
    "def available_scans(source_dir, ext=\".pt\"):\n",
    "    import os\n",
    "    subject_ids=[]\n",
    "    for (dirpath, dirnames, filenames) in os.walk(source_dir):\n",
    "        for f in filenames:\n",
    "            if f.endswith(ext):\n",
    "                subject_ids.append(f)\n",
    "    return subject_ids"
   ]
  },
  {
   "cell_type": "code",
   "execution_count": null,
   "metadata": {},
   "outputs": [],
   "source": [
    "scans=available_scans(\"/u/horlavanasta/MasterProject/DataAndExperiments/Data/CAPS/\", ext=\".pt\")\n",
    "len(scans)"
   ]
  },
  {
   "cell_type": "code",
   "execution_count": 5,
   "metadata": {},
   "outputs": [
    {
     "name": "stdout",
     "output_type": "stream",
     "text": [
      "983\n"
     ]
    }
   ],
   "source": [
    "\n",
    "folders=[f.path for f in os.scandir(\"/u/horlavanasta/MasterProject/DataAndExperiments/Data/CAPS_pt/subjects/\")]\n",
    "print(len(folders))"
   ]
  },
  {
   "cell_type": "code",
   "execution_count": 1,
   "metadata": {},
   "outputs": [
    {
     "name": "stdout",
     "output_type": "stream",
     "text": [
      "MS ____________________________________________________________________________________________\n",
      "MS ____________________________________________________________________________________________\n",
      "MS ____________________________________________________________________________________________\n"
     ]
    }
   ],
   "source": [
    "import pathlib\n",
    "import pandas as pd\n",
    "import os\n",
    "import json\n",
    "from clinicaaddl.visualize.plot import plot_generic\n",
    "\n",
    "folders = []\n",
    "MS_main_list = ['1.5T', '3T', \"1.5T-3T\"]\n",
    "MS_list_dict = {'1.5T':['1.5T', '3T'], \"3T\": ['3T', '1.5T'], \"1.5T-3T\": [\"1.5T-3T\"]}\n",
    "home_folder='/u/horlavanasta/MasterProject/'\n",
    "\n",
    "isBayesian=True\n",
    "for MS in MS_main_list:\n",
    "    print(\"MS ____________________________________________________________________________________________\")\n",
    "    model_types = [ \"ResNet18\", \"SEResNet18\", \"ResNet18Expanded\", \"SEResNet18Expanded\", \"Conv5_FC3\" ]\n",
    "    MS_list = MS_list_dict[MS]\n",
    "\n",
    "    results_folder_general =os.path.join(home_folder, 'Code/ClinicaTools/AD-DL/results/', \"Experiments_Bayesian\" if isBayesian else \"Experiments\", 'Experiments-' + MS)\n",
    "    model_dir_general = os.path.join(home_folder,\"DataAndExperiments/Experiments/Experiments-\" + MS, \"NNs_Bayesian\" if isBayesian else \"NNs\")\n",
    "\n",
    "    for network in model_types:\n",
    "        model_dir = os.path.join(model_dir_general, network)\n",
    "        # output_dir = pathlib.Path(output_dir)\n",
    "        modelPatter = \"subject_model*\"\n",
    "        folders = [f for f in pathlib.Path(model_dir).glob(modelPatter)]\n",
    "\n",
    "        for f in folders[:]:\n",
    "            \n",
    "            results_dir=os.path.join(results_folder_general,network)\n",
    "            !python ~/MasterProject/Code/ClinicaTools/AD-DL/clinicaaddl/clinicaaddl/main.py bayesian $f stat\n",
    "            !python ~/MasterProject/Code/ClinicaTools/AD-DL/clinicaaddl/clinicaaddl/main.py visualize $f $results_dir uncertainty_distribution\n",
    "            !python ~/MasterProject/Code/ClinicaTools/AD-DL/clinicaaddl/clinicaaddl/main.py visualize $f $results_dir barplots_loss --save_best True --path_to_best $results_dir"
   ]
  },
  {
   "cell_type": "code",
   "execution_count": 2,
   "metadata": {},
   "outputs": [
    {
     "name": "stdout",
     "output_type": "stream",
     "text": [
      "0.10.0\n"
     ]
    }
   ],
   "source": [
    "import seaborn as sns\n",
    "print(sns.__version__)"
   ]
  },
  {
   "cell_type": "code",
   "execution_count": null,
   "metadata": {},
   "outputs": [],
   "source": [
    "import os\n",
    "folders=[]\n",
    "for f in os.scandir(\"/u/horlavanasta/MasterProject/DataAndExperiments/Data/CAPS_pt/subjects/\"):\n",
    "    if 'sub-' in f.path:\n",
    "        pass\n",
    "    folders.append(f.path)\n",
    "print(len(folders))"
   ]
  },
  {
   "cell_type": "code",
   "execution_count": null,
   "metadata": {},
   "outputs": [],
   "source": [
    "for f in folders:\n",
    "    !echo $f\n",
    "    !python ~/MasterProject/Code/ClinicaTools/AD-DL/clinicaaddl/clinicaaddl/main.py classify ~/MasterProject/ADNI_data/CAPSPreprocessedT1linear ~/MasterProject/ADNI_data/DataPrep/labels_new/test $f test"
   ]
  },
  {
   "cell_type": "code",
   "execution_count": null,
   "metadata": {},
   "outputs": [],
   "source": []
  }
 ],
 "metadata": {
  "kernelspec": {
   "display_name": "Python 3",
   "language": "python",
   "name": "python3"
  },
  "language_info": {
   "codemirror_mode": {
    "name": "ipython",
    "version": 3
   },
   "file_extension": ".py",
   "mimetype": "text/x-python",
   "name": "python",
   "nbconvert_exporter": "python",
   "pygments_lexer": "ipython3",
   "version": "3.7.6"
  }
 },
 "nbformat": 4,
 "nbformat_minor": 4
}
