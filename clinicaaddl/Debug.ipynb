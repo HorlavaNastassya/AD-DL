{
 "cells": [
  {
   "cell_type": "code",
   "execution_count": null,
   "metadata": {},
   "outputs": [],
   "source": [
    "!python ~/MasterProject/Code/ClinicaTools/AD-DL/clinicaaddl/clinicaaddl/main.py train /u/horlavanasta/MasterProject//DataAndExperiments/Experiments/Experiments-1.5T-3T/NNs_Bayesian/ResNet18/subject_model-ResNet18_preprocessing-linear_task-AD_CN_norm-1_loss-WeightedCrossEntropy_augmTrue --n_splits 1 --split 0  --batch_size 5               "
   ]
  },
  {
   "cell_type": "code",
   "execution_count": null,
   "metadata": {},
   "outputs": [],
   "source": [
    "def available_scans(source_dir, ext=\".pt\"):\n",
    "    import os\n",
    "    subject_ids=[]\n",
    "    for (dirpath, dirnames, filenames) in os.walk(source_dir):\n",
    "        for f in filenames:\n",
    "            if f.endswith(ext):\n",
    "                subject_ids.append(f)\n",
    "    return subject_ids"
   ]
  },
  {
   "cell_type": "code",
   "execution_count": 3,
   "metadata": {},
   "outputs": [],
   "source": [
    "with open(\"scripts/submit_experiments-Copy2.sh\", \"r\") as f:\n",
    "    lines=f.readlines()\n",
    "    \n",
    "new_lines=[]\n",
    "for i in range(1, len(lines)):\n",
    "    if \"default\" in lines[i]:\n",
    "        if os.path.exists(os.path.join(lines[i], \"status.txt\")):\n",
    "            print(lines[i])\n",
    "        else:\n",
    "            new_lines.append(\"sbatch run_experiment_w_test.sh \"+lines[i][:-1]+\" True 3\\n\")\n",
    "        \n",
    "with open(\"scripts/submit_experiments.sh\", \"a\") as f:\n",
    "    for line in new_lines:\n",
    "        f.write(line)"
   ]
  },
  {
   "cell_type": "code",
   "execution_count": 5,
   "metadata": {},
   "outputs": [],
   "source": [
    "with open(\"scripts/submit_experiments-Copy2.sh\", \"r\") as f:\n",
    "    lines=f.readlines()\n",
    "new_lines=[]    \n",
    "for i in range(1, len(lines)):\n",
    "    if \"WeightedCrossEntropy\" in lines[i]:\n",
    "        new_lines.append(lines[i])  \n",
    "        \n",
    "with open(\"scripts/submit_experiments.sh\", \"a\") as f:\n",
    "    for line in new_lines:\n",
    "        f.write(line)"
   ]
  },
  {
   "cell_type": "code",
   "execution_count": 5,
   "metadata": {},
   "outputs": [],
   "source": [
    "f=\"/u/horlavanasta/MasterProject//DataAndExperiments/Experiments_3-fold/Experiments-3T/NNs_Bayesian/Conv5_FC3/subject_model-Conv5_FC3_preprocessing-linear_task-AD_CN_norm-1_loss-default_augmTrue_20210528_134641\"\n",
    "\n",
    "CAPS_DIR=\"$HOME/MasterProject/DataAndExperiments/Data/CAPS\"\n",
    "NN_FOLDER=\"NNs_Bayesian\"\n",
    "TSV_PATH=\"$HOME/MasterProject/DataAndExperiments/Experiments_3-fold/Experiments-3T/labels/test\"\n",
    "OUTPUT_DIR=\"$HOME/MasterProject//DataAndExperiments/Experiments_3-fold/Experiments-1.5T/NNs_Bayesian/Conv5_FC3/\"\n",
    "\n",
    "POSTFIX=\"test_1.5T\"\n",
    "BAYESIAN=True\n",
    "NBR_BAYESIAN_ITER=10\n",
    "\n",
    "!python /u/horlavanasta/MasterProject/Code/ClinicaTools/AD-DL/clinicaaddl/clinicaaddl/main.py classify $CAPS_DIR $TSV_PATH $f $POSTFIX --bayesian $BAYESIAN --nbr_bayesian_iter $NBR_BAYESIAN_ITER --selection_metrics balanced_accuracy loss last_checkpoint\n",
    "\n",
    "\n",
    "TEST_POSTFIX=\"test_3T\"\n",
    "TEST_TSV_PATH=\"$HOME/MasterProject/DataAndExperiments/Experiments_3-fold/Experiments-3T/labels/\"\n",
    "!python /u/horlavanasta/MasterProject/Code/ClinicaTools/AD-DL/clinicaaddl/clinicaaddl/main.py classify $CAPS_DIR $TEST_TSV_PATH $f $TEST_POSTFIX --bayesian $BAYESIAN --nbr_bayesian_iter $NBR_BAYESIAN_ITER --selection_metrics balanced_accuracy loss last_checkpoint --baseline False"
   ]
  },
  {
   "cell_type": "code",
   "execution_count": 6,
   "metadata": {},
   "outputs": [
    {
     "name": "stdout",
     "output_type": "stream",
     "text": [
      "983\n"
     ]
    }
   ],
   "source": [
    "\n",
    "folders=[f.path for f in os.scandir(\"/u/horlavanasta/MasterProject/DataAndExperiments/Data/CAPS_pt/subjects/\")]\n",
    "print(len(folders))"
   ]
  },
  {
   "cell_type": "code",
   "execution_count": null,
   "metadata": {},
   "outputs": [
    {
     "name": "stdout",
     "output_type": "stream",
     "text": [
      "MS ____________________________________________________________________________________________\n",
      "/u/horlavanasta/MasterProject/DataAndExperiments/Experiments_3-fold/Experiments-3T/NNs_Bayesian/ResNet18/subject_model-ResNet18_preprocessing-linear_task-AD_CN_norm-1_loss-WeightedCrossEntropy_augmFalse\n",
      "^C\n",
      "/u/horlavanasta/MasterProject/DataAndExperiments/Experiments_3-fold/Experiments-3T/NNs_Bayesian/ResNet18/subject_model-ResNet18_preprocessing-linear_task-AD_CN_norm-1_loss-WeightedCrossEntropy_augmTrue_20210528_130221\n",
      "/u/horlavanasta/MasterProject/DataAndExperiments/Experiments_3-fold/Experiments-3T/NNs_Bayesian/ResNet18/subject_model-ResNet18_preprocessing-linear_task-AD_CN_norm-1_loss-WeightedCrossEntropy_augmFalse_20210528_134545\n",
      "/u/horlavanasta/MasterProject/DataAndExperiments/Experiments_3-fold/Experiments-3T/NNs_Bayesian/ResNet18/subject_model-ResNet18_preprocessing-linear_task-AD_CN_norm-1_loss-WeightedCrossEntropy_augmTrue_20210528_134541\n",
      "/u/horlavanasta/MasterProject/DataAndExperiments/Experiments_3-fold/Experiments-3T/NNs_Bayesian/ResNet18/subject_model-ResNet18_preprocessing-linear_task-AD_CN_norm-1_loss-WeightedCrossEntropy_augmTrue\n",
      "/u/horlavanasta/MasterProject/DataAndExperiments/Experiments_3-fold/Experiments-3T/NNs_Bayesian/ResNet18/subject_model-ResNet18_preprocessing-linear_task-AD_CN_norm-1_loss-WeightedCrossEntropy_augmFalse_20210528_130224\n",
      "/u/horlavanasta/MasterProject/DataAndExperiments/Experiments_3-fold/Experiments-3T/NNs_Bayesian/SEResNet18/subject_model-SEResNet18_preprocessing-linear_task-AD_CN_norm-1_loss-WeightedCrossEntropy_augmTrue\n",
      "/u/horlavanasta/MasterProject/DataAndExperiments/Experiments_3-fold/Experiments-3T/NNs_Bayesian/SEResNet18/subject_model-SEResNet18_preprocessing-linear_task-AD_CN_norm-1_loss-WeightedCrossEntropy_augmFalse\n",
      "/u/horlavanasta/MasterProject/DataAndExperiments/Experiments_3-fold/Experiments-3T/NNs_Bayesian/SEResNet18/subject_model-SEResNet18_preprocessing-linear_task-AD_CN_norm-1_loss-WeightedCrossEntropy_augmFalse_20210528_130238\n",
      "^C\n",
      "Traceback (most recent call last):\n",
      "  File \"/u/horlavanasta/MasterProject/Code/ClinicaTools/AD-DL/clinicaaddl/clinicaaddl/main.py\", line 27, in <module>\n",
      "    main()\n",
      "  File \"/u/horlavanasta/MasterProject/Code/ClinicaTools/AD-DL/clinicaaddl/clinicaaddl/main.py\", line 23, in main\n",
      "    args.func(args)\n",
      "  File \"/cobra/u/horlavanasta/MasterProject/Code/ClinicaTools/AD-DL/clinicaaddl/clinicaaddl/cli.py\", line 206, in bayesian_func\n",
      "    bayesian_predictions(model_path=args.model_path, prefixes=prefixes, function=args.function)\n",
      "  File \"/cobra/u/horlavanasta/MasterProject/Code/ClinicaTools/AD-DL/clinicaaddl/clinicaaddl/classify/bayesian_utils.py\", line 72, in bayesian_predictions\n",
      "    getattr(BayesianFunctionality, function)(**args)\n",
      "  File \"/cobra/u/horlavanasta/MasterProject/Code/ClinicaTools/AD-DL/clinicaaddl/clinicaaddl/classify/bayesian_utils.py\", line 171, in stat\n",
      "    results_df = pd.concat([results_df, row_df])\n",
      "  File \"/u/horlavanasta/.local/lib/python3.7/site-packages/pandas/core/reshape/concat.py\", line 298, in concat\n",
      "    return op.get_result()\n",
      "  File \"/u/horlavanasta/.local/lib/python3.7/site-packages/pandas/core/reshape/concat.py\", line 521, in get_result\n",
      "    mgrs_indexers, self.new_axes, concat_axis=self.bm_axis, copy=self.copy\n",
      "  File \"/u/horlavanasta/.local/lib/python3.7/site-packages/pandas/core/internals/concat.py\", line 85, in concatenate_block_managers\n",
      "    ndim=len(axes),\n",
      "  File \"/u/horlavanasta/.local/lib/python3.7/site-packages/pandas/core/internals/blocks.py\", line 2721, in make_block\n",
      "    def make_block(values, placement, klass=None, ndim=None, dtype=None):\n",
      "KeyboardInterrupt\n",
      "^C\n",
      "Traceback (most recent call last):\n",
      "  File \"/u/horlavanasta/MasterProject/Code/ClinicaTools/AD-DL/clinicaaddl/clinicaaddl/main.py\", line 27, in <module>\n",
      "    main()\n",
      "  File \"/u/horlavanasta/MasterProject/Code/ClinicaTools/AD-DL/clinicaaddl/clinicaaddl/main.py\", line 23, in main\n",
      "    args.func(args)\n",
      "  File \"/cobra/u/horlavanasta/MasterProject/Code/ClinicaTools/AD-DL/clinicaaddl/clinicaaddl/cli.py\", line 177, in visualize_func\n",
      "    from visualize.plot import plot_generic\n",
      "  File \"/cobra/u/horlavanasta/MasterProject/Code/ClinicaTools/AD-DL/clinicaaddl/clinicaaddl/visualize/plot.py\", line 1, in <module>\n",
      "    import matplotlib.pyplot as plt\n",
      "  File \"/cobra/u/system/soft/SLE_12/packages/x86_64/anaconda/3/2020.02/lib/python3.7/site-packages/matplotlib/pyplot.py\", line 32, in <module>\n",
      "    import matplotlib.colorbar\n",
      "  File \"/cobra/u/system/soft/SLE_12/packages/x86_64/anaconda/3/2020.02/lib/python3.7/site-packages/matplotlib/colorbar.py\", line 31, in <module>\n",
      "    import matplotlib.contour as contour\n",
      "  File \"/cobra/u/system/soft/SLE_12/packages/x86_64/anaconda/3/2020.02/lib/python3.7/site-packages/matplotlib/contour.py\", line 16, in <module>\n",
      "    import matplotlib.font_manager as font_manager\n",
      "  File \"/cobra/u/system/soft/SLE_12/packages/x86_64/anaconda/3/2020.02/lib/python3.7/site-packages/matplotlib/font_manager.py\", line 1353, in <module>\n",
      "^C\n"
     ]
    }
   ],
   "source": [
    "import pathlib\n",
    "import pandas as pd\n",
    "import os\n",
    "import json\n",
    "from clinicaaddl.visualize.plot import plot_generic\n",
    "\n",
    "folders = []\n",
    "MS_main_list = [\"3T\",\"1.5T-3T\" ]\n",
    "MS_list_dict = {'1.5T':['1.5T', '3T'], \"3T\": ['3T', '1.5T'], \"1.5T-3T\": [\"1.5T-3T\"]}\n",
    "home_folder='/u/horlavanasta/MasterProject/'\n",
    "\n",
    "isBayesian=True\n",
    "for MS in MS_main_list[:]:\n",
    "    print(\"MS ____________________________________________________________________________________________\")\n",
    "    model_types = [ \"ResNet18\", \"SEResNet18\", \"ResNet18Expanded\", \"SEResNet18Expanded\", \"Conv5_FC3\" ]\n",
    "    MS_list = MS_list_dict[MS]\n",
    "    inference_modes=[\"mode\", \"mean\"]\n",
    "    \n",
    "    results_folder_general =os.path.join(home_folder, 'Code/ClinicaTools/AD-DL/results/', \"Experiments_3-fold\", \"Experiments_Bayesian\" if isBayesian else \"Experiments\", 'Experiments-' + MS)\n",
    "    model_dir_general = os.path.join(home_folder,\"DataAndExperiments/Experiments_3-fold/Experiments-\" + MS, \"NNs_Bayesian\" if isBayesian else \"NNs\")\n",
    "\n",
    "    for network in model_types[:]:\n",
    "        model_dir = os.path.join(model_dir_general, network)\n",
    "        # output_dir = pathlib.Path(output_dir)\n",
    "        modelPatter = \"*Weighted*\"\n",
    "        folders = [f for f in pathlib.Path(model_dir).glob(modelPatter)]\n",
    "\n",
    "        for f in folders[:]:\n",
    "            \n",
    "            print(f)\n",
    "            \n",
    "            if os.path.exists(os.path.join(f, \"status.txt\")): \n",
    "                for inference_mode in inference_modes:\n",
    "                    results_dir=os.path.join(results_folder_general,network, \"%s_inference\"%inference_mode)\n",
    "                    !python ~/MasterProject/Code/ClinicaTools/AD-DL/clinicaaddl/clinicaaddl/main.py bayesian $f stat\n",
    "                    !python ~/MasterProject/Code/ClinicaTools/AD-DL/clinicaaddl/clinicaaddl/main.py visualize $f $results_dir uncertainty_distribution results history --get_test_from_bayesian True --ba_inference_mode $inference_mode --catplot_type violinplot --uncertainty_metric \"total_variance\"\n",
    "                    !python ~/MasterProject/Code/ClinicaTools/AD-DL/clinicaaddl/clinicaaddl/main.py visualize $f $results_dir uncertainty_distribution results history --average_fold False --get_test_from_bayesian True --ba_inference_mode $inference_mode --catplot_type violinplot --uncertainty_metric \"total_variance\"\n",
    "            else: \n",
    "                print(\"not finished: \", f)\n",
    "#             !python ~/MasterProject/Code/ClinicaTools/AD-DL/clinicaaddl/clinicaaddl/main.py visualize $f $results_dir history uncertainty_distribution results --get_test_from_bayesian True --catplot_type stripplot --uncertainty_metric \"total_variance\"\n",
    "#             !python ~/MasterProject/Code/ClinicaTools/AD-DL/clinicaaddl/clinicaaddl/main.py visualize $f $results_dir uncertainty_catplot --catplot_type swarmplot --uncertainty_metric \"entropy\"\n",
    "#             !python ~/MasterProject/Code/ClinicaTools/AD-DL/clinicaaddl/clinicaaddl/main.py visualize $f $results_dir uncertainty_catplot --catplot_type violinplot --uncertainty_metric \"entropy\"\n",
    "\n"
   ]
  },
  {
   "cell_type": "code",
   "execution_count": 2,
   "metadata": {},
   "outputs": [
    {
     "name": "stdout",
     "output_type": "stream",
     "text": [
      "0.10.0\n"
     ]
    }
   ],
   "source": [
    "import seaborn as sns\n",
    "print(sns.__version__)"
   ]
  },
  {
   "cell_type": "code",
   "execution_count": null,
   "metadata": {},
   "outputs": [],
   "source": [
    "import pathlib\n",
    "import pandas as pd\n",
    "import os\n",
    "import json\n",
    "from clinicaaddl.visualize.plot import plot_generic\n",
    "\n",
    "folders = []\n",
    "MS_main_list = [\"1.5T-3T\", \"3T\"]\n",
    "MS_list_dict = {'1.5T':['1.5T', '3T'], \"3T\": ['3T', '1.5T'], \"1.5T-3T\": [\"1.5T-3T\"]}\n",
    "home_folder='/u/horlavanasta/MasterProject/'\n",
    "\n",
    "isBayesian=True\n",
    "for MS in MS_main_list[:]:\n",
    "    print(\"MS ____________________________________________________________________________________________\")\n",
    "    model_types = [ \"ResNet18\", \"SEResNet18\", \"ResNet18Expanded\", \"SEResNet18Expanded\", \"Conv5_FC3\" ]\n",
    "    MS_list = MS_list_dict[MS]\n",
    "    inference_modes=[\"mode\", \"mean\"]\n",
    "    for inference_mode in inference_modes:\n",
    "        results_folder_general =os.path.join(home_folder, 'Code/ClinicaTools/AD-DL/results/', \"Experiments_3-fold\", \"Experiments_Bayesian\" if isBayesian else \"Experiments\", \"%s_inference\"%inference_mode, 'Experiments-' + MS)\n",
    "        model_dir_general = os.path.join(home_folder,\"DataAndExperiments/Experiments_3-fold/Experiments-\" + MS, \"NNs_Bayesian\" if isBayesian else \"NNs\")\n",
    "\n",
    "        for network in model_types[:]:\n",
    "            model_dir = os.path.join(model_dir_general, network)\n",
    "            # output_dir = pathlib.Path(output_dir)\n",
    "            modelPatter = \"*default*\"\n",
    "            folders = [f for f in pathlib.Path(model_dir).glob(modelPatter)]\n",
    "\n",
    "            for f in folders[:]:\n",
    "                print(f)\n",
    "                results_dir=os.path.join(results_folder_general,network)\n",
    "#                 results_dir=None\n",
    "                !python ~/MasterProject/Code/ClinicaTools/AD-DL/clinicaaddl/clinicaaddl/main.py bayesian $f stat\n",
    "\n",
    "                if inference_mode==\"mean\":\n",
    "                    !python ~/MasterProject/Code/ClinicaTools/AD-DL/clinicaaddl/clinicaaddl/main.py visualize $f $results_dir uncertainty_distribution results --get_test_from_bayesian True --ba_inference_mode $inference_mode --catplot_type violinplot --uncertainty_metric \"total_variance\"\n",
    "                    !python ~/MasterProject/Code/ClinicaTools/AD-DL/clinicaaddl/clinicaaddl/main.py visualize $f $results_dir uncertainty_distribution results --average_fold False --get_test_from_bayesian True --ba_inference_mode $inference_mode --catplot_type violinplot --uncertainty_metric \"total_variance\"\n",
    "                else:\n",
    "                    !python ~/MasterProject/Code/ClinicaTools/AD-DL/clinicaaddl/clinicaaddl/main.py visualize $f $results_dir uncertainty_distribution results --catplot_type violinplot --uncertainty_metric \"total_variance\"\n",
    "                    !python ~/MasterProject/Code/ClinicaTools/AD-DL/clinicaaddl/clinicaaddl/main.py visualize $f $results_dir uncertainty_distribution results --average_fold False --catplot_type violinplot --uncertainty_metric \"total_variance\"\n",
    "                \n",
    "                    \n",
    "#             !python ~/MasterProject/Code/ClinicaTools/AD-DL/clinicaaddl/clinicaaddl/main.py visualize $f $results_dir history uncertainty_distribution results --get_test_from_bayesian True --catplot_type stripplot --uncertainty_metric \"total_variance\"\n",
    "#             !python ~/MasterProject/Code/ClinicaTools/AD-DL/clinicaaddl/clinicaaddl/main.py visualize $f $results_dir uncertainty_catplot --catplot_type swarmplot --uncertainty_metric \"entropy\"\n",
    "#             !python ~/MasterProject/Code/ClinicaTools/AD-DL/clinicaaddl/clinicaaddl/main.py visualize $f $results_dir uncertainty_catplot --catplot_type violinplot --uncertainty_metric \"entropy\"\n",
    "\n"
   ]
  },
  {
   "cell_type": "code",
   "execution_count": null,
   "metadata": {},
   "outputs": [],
   "source": [
    "import os\n",
    "folders=[]\n",
    "for f in os.scandir(\"/u/horlavanasta/MasterProject/DataAndExperiments/Data/CAPS_pt/subjects/\"):\n",
    "    if 'sub-' in f.path:\n",
    "        pass\n",
    "    folders.append(f.path)\n",
    "print(len(folders))"
   ]
  },
  {
   "cell_type": "code",
   "execution_count": null,
   "metadata": {},
   "outputs": [],
   "source": [
    "for f in folders:\n",
    "    !echo $f\n",
    "    !python ~/MasterProject/Code/ClinicaTools/AD-DL/clinicaaddl/clinicaaddl/main.py classify ~/MasterProject/ADNI_data/CAPSPreprocessedT1linear ~/MasterProject/ADNI_data/DataPrep/labels_new/test $f test"
   ]
  },
  {
   "cell_type": "code",
   "execution_count": null,
   "metadata": {},
   "outputs": [],
   "source": []
  }
 ],
 "metadata": {
  "kernelspec": {
   "display_name": "Python 3",
   "language": "python",
   "name": "python3"
  },
  "language_info": {
   "codemirror_mode": {
    "name": "ipython",
    "version": 3
   },
   "file_extension": ".py",
   "mimetype": "text/x-python",
   "name": "python",
   "nbconvert_exporter": "python",
   "pygments_lexer": "ipython3",
   "version": "3.7.6"
  }
 },
 "nbformat": 4,
 "nbformat_minor": 4
}
